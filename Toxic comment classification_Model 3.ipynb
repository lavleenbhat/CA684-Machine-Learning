{
  "cells": [
    {
      "metadata": {
        "_uuid": "8f2839f25d086af736a60e9eeb907d3b93b6e0e5",
        "_cell_guid": "b1076dfc-b9ad-4769-8c92-a6c4dae69d19",
        "trusted": true
      },
      "cell_type": "code",
      "source": "import pandas as pd\nimport matplotlib.pyplot as plt\nimport numpy as np\nimport nltk\nimport re, string\n#from textblob import TextBlob\nimport seaborn as sns\n\nfrom sklearn.linear_model import LogisticRegression\nfrom sklearn.svm import LinearSVC\nfrom sklearn.feature_extraction.text import CountVectorizer, TfidfVectorizer\nfrom sklearn.model_selection import train_test_split, cross_val_score\nfrom sklearn.pipeline import Pipeline\n\nfrom imblearn.pipeline import make_pipeline\nfrom imblearn.over_sampling import ADASYN\n\nfrom keras.preprocessing.text import Tokenizer\nfrom keras.preprocessing.sequence import pad_sequences\nfrom keras.layers import Dense, Input, LSTM, Embedding, Dropout, Activation, GRU,Conv1D,MaxPooling1D\nfrom keras.layers import Bidirectional, GlobalMaxPool1D,Bidirectional\nfrom keras.models import Model\nfrom keras import initializers, regularizers, constraints, optimizers, layers\nfrom keras.callbacks import EarlyStopping, ModelCheckpoint",
      "execution_count": 1,
      "outputs": [
        {
          "output_type": "stream",
          "text": "/opt/conda/lib/python3.6/site-packages/h5py/__init__.py:36: FutureWarning: Conversion of the second argument of issubdtype from `float` to `np.floating` is deprecated. In future, it will be treated as `np.float64 == np.dtype(float).type`.\n  from ._conv import register_converters as _register_converters\nUsing TensorFlow backend.\n",
          "name": "stderr"
        }
      ]
    },
    {
      "metadata": {
        "_uuid": "d629ff2d2480ee46fbb7e2d37f6b5fab8052498a",
        "_cell_guid": "79c7e3d0-c299-4dcb-8224-4455121ee9b0",
        "trusted": true
      },
      "cell_type": "code",
      "source": "df_train = pd.read_csv(\"../input/train.csv\")\ndf_test = pd.read_csv(\"../input/test.csv\")\ndf_train.head()",
      "execution_count": 2,
      "outputs": [
        {
          "output_type": "execute_result",
          "execution_count": 2,
          "data": {
            "text/plain": "                 id                                       comment_text  toxic  \\\n0  0000997932d777bf  Explanation\\nWhy the edits made under my usern...      0   \n1  000103f0d9cfb60f  D'aww! He matches this background colour I'm s...      0   \n2  000113f07ec002fd  Hey man, I'm really not trying to edit war. It...      0   \n3  0001b41b1c6bb37e  \"\\nMore\\nI can't make any real suggestions on ...      0   \n4  0001d958c54c6e35  You, sir, are my hero. Any chance you remember...      0   \n\n   severe_toxic  obscene  threat  insult  identity_hate  \n0             0        0       0       0              0  \n1             0        0       0       0              0  \n2             0        0       0       0              0  \n3             0        0       0       0              0  \n4             0        0       0       0              0  ",
            "text/html": "<div>\n<style scoped>\n    .dataframe tbody tr th:only-of-type {\n        vertical-align: middle;\n    }\n\n    .dataframe tbody tr th {\n        vertical-align: top;\n    }\n\n    .dataframe thead th {\n        text-align: right;\n    }\n</style>\n<table border=\"1\" class=\"dataframe\">\n  <thead>\n    <tr style=\"text-align: right;\">\n      <th></th>\n      <th>id</th>\n      <th>comment_text</th>\n      <th>toxic</th>\n      <th>severe_toxic</th>\n      <th>obscene</th>\n      <th>threat</th>\n      <th>insult</th>\n      <th>identity_hate</th>\n    </tr>\n  </thead>\n  <tbody>\n    <tr>\n      <th>0</th>\n      <td>0000997932d777bf</td>\n      <td>Explanation\\nWhy the edits made under my usern...</td>\n      <td>0</td>\n      <td>0</td>\n      <td>0</td>\n      <td>0</td>\n      <td>0</td>\n      <td>0</td>\n    </tr>\n    <tr>\n      <th>1</th>\n      <td>000103f0d9cfb60f</td>\n      <td>D'aww! He matches this background colour I'm s...</td>\n      <td>0</td>\n      <td>0</td>\n      <td>0</td>\n      <td>0</td>\n      <td>0</td>\n      <td>0</td>\n    </tr>\n    <tr>\n      <th>2</th>\n      <td>000113f07ec002fd</td>\n      <td>Hey man, I'm really not trying to edit war. It...</td>\n      <td>0</td>\n      <td>0</td>\n      <td>0</td>\n      <td>0</td>\n      <td>0</td>\n      <td>0</td>\n    </tr>\n    <tr>\n      <th>3</th>\n      <td>0001b41b1c6bb37e</td>\n      <td>\"\\nMore\\nI can't make any real suggestions on ...</td>\n      <td>0</td>\n      <td>0</td>\n      <td>0</td>\n      <td>0</td>\n      <td>0</td>\n      <td>0</td>\n    </tr>\n    <tr>\n      <th>4</th>\n      <td>0001d958c54c6e35</td>\n      <td>You, sir, are my hero. Any chance you remember...</td>\n      <td>0</td>\n      <td>0</td>\n      <td>0</td>\n      <td>0</td>\n      <td>0</td>\n      <td>0</td>\n    </tr>\n  </tbody>\n</table>\n</div>"
          },
          "metadata": {}
        }
      ]
    },
    {
      "metadata": {
        "_uuid": "d7543311296289e9a24c1c7905683916366c6d0a",
        "_cell_guid": "abd79118-cf7a-4d27-a77b-cd52e59fe4f1",
        "trusted": true
      },
      "cell_type": "code",
      "source": "len(df_train)",
      "execution_count": 3,
      "outputs": [
        {
          "output_type": "execute_result",
          "execution_count": 3,
          "data": {
            "text/plain": "159571"
          },
          "metadata": {}
        }
      ]
    },
    {
      "metadata": {
        "_uuid": "ad53766ccc1904a05c017ea083fd62569937fa57",
        "_cell_guid": "3cfff6a7-43d5-4646-a7a5-ed8b361d1e47",
        "trusted": true
      },
      "cell_type": "code",
      "source": "label_cols = ['toxic', 'severe_toxic', 'obscene', 'threat', 'insult', 'identity_hate']\ndf_train[label_cols].sum().plot.bar()",
      "execution_count": 38,
      "outputs": [
        {
          "output_type": "execute_result",
          "execution_count": 38,
          "data": {
            "text/plain": "<matplotlib.axes._subplots.AxesSubplot at 0x7f25f8bf9550>"
          },
          "metadata": {}
        },
        {
          "output_type": "display_data",
          "data": {
            "text/plain": "<matplotlib.figure.Figure at 0x7f25f25965c0>",
            "image/png": "[encoded data removed]"
          },
          "metadata": {}
        }
      ]
    },
    {
      "metadata": {
        "_uuid": "be410859dcfdbfef31f5d228588580dc78c75ef5",
        "collapsed": true,
        "_cell_guid": "e469aee9-1877-4021-b611-ebceea0799d4",
        "trusted": true
      },
      "cell_type": "code",
      "source": "df_train['category'] = df_train[label_cols].max(axis=1)",
      "execution_count": 5,
      "outputs": []
    },
    {
      "metadata": {
        "_uuid": "09dc5a6301bf0500431b2cfc5dec387917cf94ff",
        "_cell_guid": "439c15cf-622b-4c79-96b1-ce2f2377b435",
        "trusted": true
      },
      "cell_type": "code",
      "source": "count_toxic = df_train['category'].sum()#df_train[df_train['category'] != 0].count     #.sum\ncount_toxic",
      "execution_count": 22,
      "outputs": [
        {
          "output_type": "execute_result",
          "execution_count": 22,
          "data": {
            "text/plain": "129800"
          },
          "metadata": {}
        }
      ]
    },
    {
      "metadata": {
        "_uuid": "beb8bf00fe9abfdf6507597c82686e3e35ffe9a4",
        "_cell_guid": "5e31b8d1-405c-4476-b7ed-4f9ba5f7f911",
        "trusted": true
      },
      "cell_type": "code",
      "source": "percentage_toxic = float(count_toxic)/len(df_train)\nprint(percentage_toxic*100)",
      "execution_count": 23,
      "outputs": [
        {
          "output_type": "stream",
          "text": "47.520373719549255\n",
          "name": "stdout"
        }
      ]
    },
    {
      "metadata": {
        "_uuid": "e52f84be02314915e1bb1d5f1b9612bb33b8c53c",
        "_cell_guid": "3223c8b2-52bf-4f25-b547-81ff05f4d693",
        "trusted": true
      },
      "cell_type": "code",
      "source": "sns.countplot(df_train['category'])",
      "execution_count": 8,
      "outputs": [
        {
          "output_type": "execute_result",
          "execution_count": 8,
          "data": {
            "text/plain": "<matplotlib.axes._subplots.AxesSubplot at 0x7f25f8c5b940>"
          },
          "metadata": {}
        },
        {
          "output_type": "display_data",
          "data": {
            "text/plain": "<matplotlib.figure.Figure at 0x7f2684bf24a8>",
            "image/png": "[encoded data removed]"
          },
          "metadata": {}
        }
      ]
    },
    {
      "metadata": {
        "_uuid": "f1b531b2d4b29449e2d53b226b819eccc13792d1",
        "_cell_guid": "8f02b792-3e69-40dd-9455-843a86eb7b77"
      },
      "cell_type": "markdown",
      "source": "As we can see, there are only 10% of toxic comments available in the training dataset. This shows class imbalance between non-toxic and toxic comments(which includes all labels)\nSo, let's try to increase the number of samples in toxic category and see the results."
    },
    {
      "metadata": {
        "_uuid": "73cda49d77b4a0c2e7dc0aee5ca2d572d8f5fa4f",
        "_cell_guid": "2bf629b0-5367-4786-85fc-4a0136f16b6d",
        "trusted": true
      },
      "cell_type": "code",
      "source": "df_train['comment_text'].notna().sum()",
      "execution_count": 9,
      "outputs": [
        {
          "output_type": "execute_result",
          "execution_count": 9,
          "data": {
            "text/plain": "159571"
          },
          "metadata": {}
        }
      ]
    },
    {
      "metadata": {
        "_uuid": "2381f0956eff3f2b92acb377c3a2438a1a4cdb82",
        "_cell_guid": "78fc4335-8745-4741-96fd-1f9fe5f468d6",
        "trusted": true
      },
      "cell_type": "code",
      "source": "df_train.isnull().any()",
      "execution_count": 10,
      "outputs": [
        {
          "output_type": "execute_result",
          "execution_count": 10,
          "data": {
            "text/plain": "id               False\ncomment_text     False\ntoxic            False\nsevere_toxic     False\nobscene          False\nthreat           False\ninsult           False\nidentity_hate    False\ncategory         False\ndtype: bool"
          },
          "metadata": {}
        }
      ]
    },
    {
      "metadata": {
        "_uuid": "5124e1c73266f7b321a7f9da938eaa79c6c3fc2d",
        "_cell_guid": "90dee38c-caaf-4592-8774-977f01ed37b1"
      },
      "cell_type": "markdown",
      "source": "Increasinng the sampling by appending the toxic comment back to training dataset"
    },
    {
      "metadata": {
        "_uuid": "58cabccab382a6c180608bfaec752fe0a703f8dd",
        "_cell_guid": "07255ee3-52a3-4858-b209-3176f754931f",
        "trusted": true
      },
      "cell_type": "code",
      "source": "df_train_resample = df_train[df_train['category'] == 1]\ndf_train_resample.shape",
      "execution_count": 19,
      "outputs": [
        {
          "output_type": "execute_result",
          "execution_count": 19,
          "data": {
            "text/plain": "(64900, 9)"
          },
          "metadata": {}
        }
      ]
    },
    {
      "metadata": {
        "_uuid": "173f853ba4ec4533050f150febac8ae542b581d5",
        "_cell_guid": "5a2e6e66-7d34-499b-9040-c884c39559e1",
        "trusted": true
      },
      "cell_type": "code",
      "source": "df_train_resample.reset_index(drop=True, inplace=True)\ndf_train_resample.head()",
      "execution_count": 20,
      "outputs": [
        {
          "output_type": "execute_result",
          "execution_count": 20,
          "data": {
            "text/plain": "                 id                                       comment_text  toxic  \\\n0  0002bcb3da6cb337       COCKSUCKER BEFORE YOU PISS AROUND ON MY WORK      1   \n1  0005c987bdfc9d4b  Hey... what is it..\\n@ | talk .\\nWhat is it......      1   \n2  0007e25b2121310b  Bye! \\n\\nDon't look, come or think of comming ...      1   \n3  001810bf8c45bf5f  You are gay or antisemmitian? \\n\\nArchangel WH...      1   \n4  00190820581d90ce           FUCK YOUR FILTHY MOTHER IN THE ASS, DRY!      1   \n\n   severe_toxic  obscene  threat  insult  identity_hate  category  \n0             1        1       0       1              0         1  \n1             0        0       0       0              0         1  \n2             0        0       0       0              0         1  \n3             0        1       0       1              1         1  \n4             0        1       0       1              0         1  ",
            "text/html": "<div>\n<style scoped>\n    .dataframe tbody tr th:only-of-type {\n        vertical-align: middle;\n    }\n\n    .dataframe tbody tr th {\n        vertical-align: top;\n    }\n\n    .dataframe thead th {\n        text-align: right;\n    }\n</style>\n<table border=\"1\" class=\"dataframe\">\n  <thead>\n    <tr style=\"text-align: right;\">\n      <th></th>\n      <th>id</th>\n      <th>comment_text</th>\n      <th>toxic</th>\n      <th>severe_toxic</th>\n      <th>obscene</th>\n      <th>threat</th>\n      <th>insult</th>\n      <th>identity_hate</th>\n      <th>category</th>\n    </tr>\n  </thead>\n  <tbody>\n    <tr>\n      <th>0</th>\n      <td>0002bcb3da6cb337</td>\n      <td>COCKSUCKER BEFORE YOU PISS AROUND ON MY WORK</td>\n      <td>1</td>\n      <td>1</td>\n      <td>1</td>\n      <td>0</td>\n      <td>1</td>\n      <td>0</td>\n      <td>1</td>\n    </tr>\n    <tr>\n      <th>1</th>\n      <td>0005c987bdfc9d4b</td>\n      <td>Hey... what is it..\\n@ | talk .\\nWhat is it......</td>\n      <td>1</td>\n      <td>0</td>\n      <td>0</td>\n      <td>0</td>\n      <td>0</td>\n      <td>0</td>\n      <td>1</td>\n    </tr>\n    <tr>\n      <th>2</th>\n      <td>0007e25b2121310b</td>\n      <td>Bye! \\n\\nDon't look, come or think of comming ...</td>\n      <td>1</td>\n      <td>0</td>\n      <td>0</td>\n      <td>0</td>\n      <td>0</td>\n      <td>0</td>\n      <td>1</td>\n    </tr>\n    <tr>\n      <th>3</th>\n      <td>001810bf8c45bf5f</td>\n      <td>You are gay or antisemmitian? \\n\\nArchangel WH...</td>\n      <td>1</td>\n      <td>0</td>\n      <td>1</td>\n      <td>0</td>\n      <td>1</td>\n      <td>1</td>\n      <td>1</td>\n    </tr>\n    <tr>\n      <th>4</th>\n      <td>00190820581d90ce</td>\n      <td>FUCK YOUR FILTHY MOTHER IN THE ASS, DRY!</td>\n      <td>1</td>\n      <td>0</td>\n      <td>1</td>\n      <td>0</td>\n      <td>1</td>\n      <td>0</td>\n      <td>1</td>\n    </tr>\n  </tbody>\n</table>\n</div>"
          },
          "metadata": {}
        }
      ]
    },
    {
      "metadata": {
        "_uuid": "7e47a09cc36df0822a3135357ddaba58340437c2",
        "_cell_guid": "c34994e6-90c9-478a-b4ef-3d6a9ac54b9d",
        "trusted": true
      },
      "cell_type": "code",
      "source": "df_train = pd.concat([df_train, df_train_resample])\ndf_train.shape",
      "execution_count": 21,
      "outputs": [
        {
          "output_type": "execute_result",
          "execution_count": 21,
          "data": {
            "text/plain": "(273146, 9)"
          },
          "metadata": {}
        }
      ]
    },
    {
      "metadata": {
        "_uuid": "449845277e11941dda3f234c0ecce6371dfbc215",
        "_cell_guid": "3e31ec54-0e2d-48c9-9b60-88f70b52afdc",
        "trusted": true
      },
      "cell_type": "code",
      "source": "df_train.category.sum()",
      "execution_count": 24,
      "outputs": [
        {
          "output_type": "execute_result",
          "execution_count": 24,
          "data": {
            "text/plain": "129800"
          },
          "metadata": {}
        }
      ]
    },
    {
      "metadata": {
        "_uuid": "5430929ce80b3430e6744238f9fb8f6db01bf356",
        "_cell_guid": "da7e4910-3918-4d6e-9e46-564f565b674f",
        "trusted": true
      },
      "cell_type": "code",
      "source": "df_train.shape",
      "execution_count": 25,
      "outputs": [
        {
          "output_type": "execute_result",
          "execution_count": 25,
          "data": {
            "text/plain": "(273146, 9)"
          },
          "metadata": {}
        }
      ]
    },
    {
      "metadata": {
        "_uuid": "dd811a2f9e60665dcfe2a523765fe32cf713682a",
        "_cell_guid": "589e0c0a-bfcd-487d-8722-d278a318e9e3"
      },
      "cell_type": "markdown",
      "source": "Let's implement the ML models now.."
    },
    {
      "metadata": {
        "_uuid": "9dd7c3b3fa26c25b64051b13f3d64fd663f96258",
        "collapsed": true,
        "_cell_guid": "062207bc-56f5-4e5b-8f25-ef5773430f93",
        "trusted": true
      },
      "cell_type": "code",
      "source": "#Removing unecessary punctutation from the comments\nre_tok = re.compile(\"([{string.punctuation}“”¨«»®´·º½¾¿¡§£₤‘’])\")\ndef tokenize(s): \n    return re_tok.sub(r' \\1 ', s).split()",
      "execution_count": 26,
      "outputs": []
    },
    {
      "metadata": {
        "_uuid": "2b80f9815ce38d7c399c783ccbd77484df3d5093",
        "collapsed": true,
        "_cell_guid": "b2684dd6-0a5a-4ae2-8210-b154ab666367",
        "trusted": true
      },
      "cell_type": "code",
      "source": "n = df_train.shape[0]\n# sublinear_tf = True -> To use a logarithmic form of Frequency\n# min_df = 3          -> minimum numbers of documents a word must be present in to be kept\n# norm = l2           -> to ensure all our feature vectors have a euclidian norm of 1\n# stop_words = 'english' -> As we're dealing with English comments, removing the stopwords for model to be efficient\nvec = TfidfVectorizer( ngram_range=(1,1),       tokenizer=tokenize,\n                       min_df=5,                max_df=0.9, \n                       strip_accents='unicode', use_idf=1,\n                       smooth_idf=1,            sublinear_tf=1, \n                       norm = 'l2',             stop_words='english' )",
      "execution_count": 27,
      "outputs": []
    },
    {
      "metadata": {
        "_uuid": "3541949ff221b9c7ea04d1cf841f35d46672986e",
        "collapsed": true,
        "_cell_guid": "6c23b619-dba2-42bb-bcb0-feb887b360e9",
        "trusted": true
      },
      "cell_type": "code",
      "source": "train_features = vec.fit_transform(df_train['comment_text'])\ntest_features = vec.transform(df_test['comment_text'])",
      "execution_count": 28,
      "outputs": []
    },
    {
      "metadata": {
        "_uuid": "76c62dcf17aaca2fa2df9e3944972e8b2776b179",
        "_cell_guid": "d3a9e089-992c-443a-9473-41142bed7c73",
        "trusted": true
      },
      "cell_type": "code",
      "source": "train_features.shape, test_features.shape",
      "execution_count": 29,
      "outputs": [
        {
          "output_type": "execute_result",
          "execution_count": 29,
          "data": {
            "text/plain": "((273146, 12360), (153164, 12360))"
          },
          "metadata": {}
        }
      ]
    },
    {
      "metadata": {
        "_uuid": "94205455cb4a5b8acd00a32f72bef10cee72c686",
        "collapsed": true,
        "_cell_guid": "e734caae-79ee-4207-a020-55b3cddd9c68",
        "trusted": true
      },
      "cell_type": "code",
      "source": "model = LogisticRegression(C=4, dual=True)",
      "execution_count": 30,
      "outputs": []
    },
    {
      "metadata": {
        "_uuid": "c14d2d227fd60a708cb1c6d2432e579b966e3efd",
        "_cell_guid": "d3693566-3452-4d8d-bbbd-fe813d7592b3",
        "trusted": true
      },
      "cell_type": "code",
      "source": "predictions_df = np.zeros((len(df_test), len(label_cols)))\nfor i, col in enumerate(label_cols):\n    print(\"fit: \", col)\n    classifier = model.fit(train_features, df_train[col].values)\n    predictions_df[:,i] = classifier.predict_proba(test_features)[:,1]\n    #pred_df = pd.DataFrame(predictions)\n    print(predictions_df.shape)",
      "execution_count": 31,
      "outputs": [
        {
          "output_type": "stream",
          "text": "fit:  toxic\n(153164, 6)\nfit:  severe_toxic\n(153164, 6)\nfit:  obscene\n(153164, 6)\nfit:  threat\n(153164, 6)\nfit:  insult\n(153164, 6)\nfit:  identity_hate\n(153164, 6)\n",
          "name": "stdout"
        }
      ]
    },
    {
      "metadata": {
        "_uuid": "03d0c563f3d012eed735c24059a839cae649a8e7",
        "_cell_guid": "ce6d2dd7-8c4d-469b-a9e2-30f662023aca",
        "trusted": true
      },
      "cell_type": "code",
      "source": "for col in label_cols:\n    accuracy = cross_val_score(model, train_features, df_train[col].values, scoring='accuracy', cv=5)\n    print(col, \": \", accuracy.mean())",
      "execution_count": 32,
      "outputs": [
        {
          "output_type": "stream",
          "text": "toxic :  0.8146484411716397\nsevere_toxic :  0.9617676785755733\nobscene :  0.8587565082002337\nthreat :  0.9886983517012584\ninsult :  0.8503070785231545\nidentity_hate :  0.9674093652218353\n",
          "name": "stdout"
        }
      ]
    },
    {
      "metadata": {
        "_uuid": "1f80c0a34761200d9717c3d3536f2378b5e3ea16",
        "collapsed": true,
        "_cell_guid": "b76f2fd4-7481-4ffd-8920-c8096cb0ff35"
      },
      "cell_type": "markdown",
      "source": "LSTM"
    },
    {
      "metadata": {
        "_uuid": "c60f54a0705eb62c62101f35bd458a7f4a8fd8c4",
        "collapsed": true,
        "_cell_guid": "285d7795-a62a-4789-8fe1-d82efd7b5f10",
        "trusted": true
      },
      "cell_type": "code",
      "source": "X_train, X_test, y_train, y_test = train_test_split(df_train, df_train[label_cols], test_size = 0.20, random_state = 42)",
      "execution_count": 33,
      "outputs": []
    },
    {
      "metadata": {
        "_uuid": "ca8b3406dac36d4d28984b44dd26aa4539ec8a6e",
        "collapsed": true,
        "_cell_guid": "44440cb7-392d-4208-acb0-eddecebb94e6",
        "trusted": true
      },
      "cell_type": "code",
      "source": "list_sentences_train = X_train[\"comment_text\"]\nlist_sentences_test = X_test[\"comment_text\"]",
      "execution_count": 34,
      "outputs": []
    },
    {
      "metadata": {
        "_uuid": "08bded6fa06aa4825165935345e9ac69b60f99b6",
        "collapsed": true,
        "_cell_guid": "3b5e2d7f-51ce-4e0d-9ea3-aa10764be623",
        "trusted": true
      },
      "cell_type": "code",
      "source": "max_features = 20000\ntokenizer = Tokenizer(num_words=max_features,char_level=True)",
      "execution_count": 35,
      "outputs": []
    },
    {
      "metadata": {
        "_uuid": "e81ecff874d203c64e13f1e604c17ead915b223e",
        "collapsed": true,
        "_cell_guid": "6087391e-b1b5-4937-9ab4-1f272d022c3b",
        "trusted": true
      },
      "cell_type": "code",
      "source": "tokenizer.fit_on_texts(list(list_sentences_train))",
      "execution_count": 36,
      "outputs": []
    },
    {
      "metadata": {
        "_uuid": "b8a7df883f27c6e427e3427aff8147f0b86527c5",
        "collapsed": true,
        "_cell_guid": "67f5efb5-9690-4220-be99-74391e662a90",
        "trusted": true
      },
      "cell_type": "code",
      "source": "list_tokenized_train = tokenizer.texts_to_sequences(list_sentences_train)\nlist_tokenized_test = tokenizer.texts_to_sequences(list_sentences_test)",
      "execution_count": 37,
      "outputs": []
    },
    {
      "metadata": {
        "_uuid": "39f7b6b367f1e85b7b7d53bd561b845d8cb1c2cd",
        "collapsed": true,
        "_cell_guid": "daa48ce8-a9bb-4049-affa-3ba8d3c2fc50",
        "trusted": true
      },
      "cell_type": "code",
      "source": "maxlen = 500\nX_tr = pad_sequences(list_tokenized_train, maxlen=maxlen)\nX_te = pad_sequences(list_tokenized_test, maxlen=maxlen)",
      "execution_count": 39,
      "outputs": []
    },
    {
      "metadata": {
        "_uuid": "cddba3709392e3e079445271683346859e97e2aa",
        "collapsed": true,
        "_cell_guid": "d52f5be2-0151-4648-a004-98eb7573238c",
        "trusted": true
      },
      "cell_type": "code",
      "source": "#Input layer\ninp = Input(shape=(maxlen, ))",
      "execution_count": 40,
      "outputs": []
    },
    {
      "metadata": {
        "_uuid": "01a1b0d5d024d9c975d280b56387e3b8bfe95192",
        "collapsed": true,
        "_cell_guid": "3b16a0f5-b7d5-40c9-a33e-d9c328925d0a",
        "trusted": true
      },
      "cell_type": "code",
      "source": "#Embedding Layer\nembed_size = 240\nx = Embedding(len(tokenizer.word_index)+1, embed_size)(inp)",
      "execution_count": 41,
      "outputs": []
    },
    {
      "metadata": {
        "_uuid": "a4de795de7235579eeb4af424dbeb99fc1c87c66",
        "collapsed": true,
        "_cell_guid": "ef9676b9-d057-4ce2-9a60-59799b5e4d8b",
        "trusted": true
      },
      "cell_type": "code",
      "source": "#LSTM layer\nx = Bidirectional(GRU(60, return_sequences=True,name='lstm_layer',dropout=0.2,recurrent_dropout=0.2))(x)",
      "execution_count": 42,
      "outputs": []
    },
    {
      "metadata": {
        "_uuid": "162855a5050a794be9f72a8ff5a8ef6eeace85e0",
        "collapsed": true,
        "_cell_guid": "19daf7b2-e84a-43f7-bfdd-0edbf2fdffe6",
        "trusted": true
      },
      "cell_type": "code",
      "source": "x = GlobalMaxPool1D()(x)",
      "execution_count": 43,
      "outputs": []
    },
    {
      "metadata": {
        "_uuid": "b8202db85ce78e7be922f7e7968e5afda2a201a1",
        "collapsed": true,
        "_cell_guid": "4e7329eb-5d15-4de3-9ef9-3959d0229aa8",
        "trusted": true
      },
      "cell_type": "code",
      "source": "x = Dense(6, activation=\"sigmoid\")(x)",
      "execution_count": 44,
      "outputs": []
    },
    {
      "metadata": {
        "_uuid": "c5f52095beb661142e0a558ecc7031fba1073685",
        "collapsed": true,
        "_cell_guid": "38020f6a-4e1d-441e-b567-1404d1883de2",
        "trusted": true
      },
      "cell_type": "code",
      "source": "model = Model(inputs=inp, outputs=x)\nmodel.compile(loss='binary_crossentropy',\n                  optimizer='adam',\n                 metrics=['accuracy'])",
      "execution_count": 45,
      "outputs": []
    },
    {
      "metadata": {
        "_uuid": "e47e86521dcb6a06984ef9d332b8c8ff1d3d7ce8",
        "_cell_guid": "a771de5d-da8f-491c-b96f-0c44ab419a48",
        "trusted": true
      },
      "cell_type": "code",
      "source": "model.summary()",
      "execution_count": 46,
      "outputs": [
        {
          "output_type": "stream",
          "text": "_________________________________________________________________\nLayer (type)                 Output Shape              Param #   \n=================================================================\ninput_1 (InputLayer)         (None, 500)               0         \n_________________________________________________________________\nembedding_1 (Embedding)      (None, 500, 240)          505920    \n_________________________________________________________________\nbidirectional_1 (Bidirection (None, 500, 120)          108360    \n_________________________________________________________________\nglobal_max_pooling1d_1 (Glob (None, 120)               0         \n_________________________________________________________________\ndense_1 (Dense)              (None, 6)                 726       \n=================================================================\nTotal params: 615,006\nTrainable params: 615,006\nNon-trainable params: 0\n_________________________________________________________________\n",
          "name": "stdout"
        }
      ]
    },
    {
      "metadata": {
        "_uuid": "803df7e6d6ff23ca47ae22b1eb9e0bf4f2fb106e",
        "_cell_guid": "abb11571-4923-4650-8dd5-8c4204b23943",
        "trusted": true
      },
      "cell_type": "code",
      "source": "batch_size = 100\nepochs = 2\n\nhist = model.fit(X_tr,y_train, batch_size=batch_size, epochs=epochs,validation_data=(X_te,y_test))",
      "execution_count": 48,
      "outputs": [
        {
          "output_type": "stream",
          "text": "Train on 218516 samples, validate on 54630 samples\nEpoch 1/2\n218516/218516 [==============================] - 7780s 36ms/step - loss: 0.2309 - acc: 0.9070 - val_loss: 0.2033 - val_acc: 0.9180\nEpoch 2/2\n218516/218516 [==============================] - 7673s 35ms/step - loss: 0.1860 - acc: 0.9247 - val_loss: 0.1722 - val_acc: 0.9300\n",
          "name": "stdout"
        }
      ]
    },
    {
      "metadata": {
        "_uuid": "301458b671ad135b3c3ea42bd59ed948f09e1f96",
        "collapsed": true,
        "_cell_guid": "e6ccd7d4-618e-4eab-b5c8-f214e62fd7b5",
        "trusted": false
      },
      "cell_type": "code",
      "source": "",
      "execution_count": null,
      "outputs": []
    }
  ],
  "metadata": {
    "kernelspec": {
      "display_name": "Python 3",
      "language": "python",
      "name": "python3"
    },
    "language_info": {
      "name": "python",
      "version": "3.6.5",
      "mimetype": "text/x-python",
      "codemirror_mode": {
        "name": "ipython",
        "version": 3
      },
      "pygments_lexer": "ipython3",
      "nbconvert_exporter": "python",
      "file_extension": ".py"
    }
  },
  "nbformat": 4,
  "nbformat_minor": 1
}